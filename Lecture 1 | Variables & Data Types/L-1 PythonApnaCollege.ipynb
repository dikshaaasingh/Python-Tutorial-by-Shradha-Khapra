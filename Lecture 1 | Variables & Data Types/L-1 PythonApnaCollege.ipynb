{
 "cells": [
  {
   "cell_type": "markdown",
   "id": "67413bcc",
   "metadata": {},
   "source": [
    "#  LESSON 1"
   ]
  },
  {
   "cell_type": "markdown",
   "id": "13ada1e9",
   "metadata": {},
   "source": [
    "# Our First Program "
   ]
  },
  {
   "cell_type": "code",
   "execution_count": 2,
   "id": "44cc920e",
   "metadata": {},
   "outputs": [
    {
     "name": "stdout",
     "output_type": "stream",
     "text": [
      "My name is Diksha Singh\n",
      "I am 23 years old.\n",
      "My name is Diksha Singh. I am 24 years old.\n",
      "45\n",
      "100\n"
     ]
    }
   ],
   "source": [
    "print(\"My name is Diksha Singh\")\n",
    "print(\"I am 23 years old.\")\n",
    "print(\"My name is Diksha Singh.\", \"I am 24 years old.\")\n",
    "print(45)\n",
    "print(45+55)"
   ]
  },
  {
   "cell_type": "markdown",
   "id": "9db084ac",
   "metadata": {},
   "source": [
    "# Variable and how to use them"
   ]
  },
  {
   "cell_type": "code",
   "execution_count": 3,
   "id": "adcfff2a",
   "metadata": {},
   "outputs": [
    {
     "name": "stdout",
     "output_type": "stream",
     "text": [
      "Diksha\n",
      "23\n",
      "97.97\n"
     ]
    }
   ],
   "source": [
    "name= \"Diksha\" #String\n",
    "age= 23 #Integer\n",
    "marks= 97.97 #Float\n",
    "\n",
    "print(name)\n",
    "print(age)\n",
    "print(marks)"
   ]
  },
  {
   "cell_type": "markdown",
   "id": "b51d4dc5",
   "metadata": {},
   "source": [
    "## Another way to print output "
   ]
  },
  {
   "cell_type": "code",
   "execution_count": 4,
   "id": "5900ba3f",
   "metadata": {},
   "outputs": [
    {
     "name": "stdout",
     "output_type": "stream",
     "text": [
      "My name is: Diksha\n",
      "My age is 23\n",
      "My marks are 97.97\n"
     ]
    }
   ],
   "source": [
    "print(\"My name is:\", name)\n",
    "print(\"My age is\", age)\n",
    "print(\"My marks are\", marks)"
   ]
  },
  {
   "cell_type": "markdown",
   "id": "57416656",
   "metadata": {},
   "source": [
    "# Data Types"
   ]
  },
  {
   "cell_type": "markdown",
   "id": "7347c3f9",
   "metadata": {},
   "source": [
    "1. Integers\n",
    "2. String\n",
    "3. Float\n",
    "4. Boolean\n",
    "5. None"
   ]
  },
  {
   "cell_type": "code",
   "execution_count": 5,
   "id": "3cf5643b",
   "metadata": {},
   "outputs": [
    {
     "name": "stdout",
     "output_type": "stream",
     "text": [
      "Diksha\n",
      "23\n",
      "97.97\n",
      "23\n",
      "<class 'str'>\n",
      "<class 'int'>\n",
      "<class 'float'>\n"
     ]
    }
   ],
   "source": [
    "name= \"Diksha\" #String\n",
    "age= 23 #Integer\n",
    "marks= 97.97 #Float\n",
    "\n",
    "print(name)\n",
    "print(age)\n",
    "print(marks)\n",
    "\n",
    "age2= age\n",
    "print(age2)\n",
    "\n",
    "#To print the data type of the above variables\n",
    "print(type(name))\n",
    "print(type(age)) #integer can be +ve or -ve value\n",
    "print(type(marks))"
   ]
  },
  {
   "cell_type": "code",
   "execution_count": 6,
   "id": "e69694a5",
   "metadata": {},
   "outputs": [
    {
     "name": "stdout",
     "output_type": "stream",
     "text": [
      "<class 'int'>\n",
      "<class 'bool'>\n",
      "<class 'NoneType'>\n"
     ]
    }
   ],
   "source": [
    "age=23\n",
    "old= False #F of the false should be in uppercase\n",
    "a= None\n",
    "#to print the data type of the above variables\n",
    "print(type(age))\n",
    "print(type(old))\n",
    "print(type(a))"
   ]
  },
  {
   "cell_type": "markdown",
   "id": "91cf10d9",
   "metadata": {},
   "source": [
    "# To print sum and difference of two numbers "
   ]
  },
  {
   "cell_type": "code",
   "execution_count": 7,
   "id": "edab4fe0",
   "metadata": {},
   "outputs": [
    {
     "name": "stdout",
     "output_type": "stream",
     "text": [
      "28\n",
      "2\n"
     ]
    }
   ],
   "source": [
    "a= 15\n",
    "b= 13\n",
    "sum= a+b #Addition\n",
    "print(sum)\n",
    "diff= a-b\n",
    "print(diff) #Subtraction"
   ]
  },
  {
   "cell_type": "markdown",
   "id": "ac2a69d5",
   "metadata": {},
   "source": [
    "# Types of operators in Python "
   ]
  },
  {
   "cell_type": "markdown",
   "id": "fdfed47a",
   "metadata": {},
   "source": [
    "Arithmetic Operators ( + , - , * , / , % , ** )\n",
    "\n",
    "Relational / Comparison Operators ( == , != , > , < , >= , <= )\n",
    "\n",
    "Assignment Operators ( = , +=, -= , *= , /= , %= , **= )\n",
    "\n",
    "Logical Operators ( not , and , or )"
   ]
  },
  {
   "cell_type": "markdown",
   "id": "3503b509",
   "metadata": {},
   "source": [
    "# 1.Arithmetic Operator"
   ]
  },
  {
   "cell_type": "code",
   "execution_count": 8,
   "id": "97de6740",
   "metadata": {},
   "outputs": [
    {
     "name": "stdout",
     "output_type": "stream",
     "text": [
      "7\n",
      "3\n",
      "10\n",
      "2.5\n",
      "1\n",
      "25\n"
     ]
    }
   ],
   "source": [
    "a=5\n",
    "b=2\n",
    "\n",
    "print(a+b)\n",
    "print(a-b)\n",
    "print(a*b)\n",
    "print(a/b)\n",
    "print(a%b) #Remainder\n",
    "print(a**b) #Power operator 5^2"
   ]
  },
  {
   "cell_type": "markdown",
   "id": "cb6e0785",
   "metadata": {},
   "source": [
    "# 2.Relational/Comparison Operators"
   ]
  },
  {
   "cell_type": "markdown",
   "id": "fe436259",
   "metadata": {},
   "source": [
    "In Relational operators, output is always either True or False"
   ]
  },
  {
   "cell_type": "code",
   "execution_count": 9,
   "id": "ddb7dce9",
   "metadata": {},
   "outputs": [
    {
     "name": "stdout",
     "output_type": "stream",
     "text": [
      "False\n",
      "True\n",
      "True\n",
      "True\n",
      "False\n",
      "False\n"
     ]
    }
   ],
   "source": [
    "a=50\n",
    "b=20\n",
    "\n",
    "print(a==b) #False\n",
    "print(a!=b) #True\n",
    "print(a>=b) #True\n",
    "print(a>b) #True\n",
    "print(a<=b) #False\n",
    "print(a<b) #False"
   ]
  },
  {
   "cell_type": "markdown",
   "id": "9d68e951",
   "metadata": {},
   "source": [
    "# 3. Assignment Operators"
   ]
  },
  {
   "cell_type": "code",
   "execution_count": 10,
   "id": "3ff5c9e1",
   "metadata": {},
   "outputs": [
    {
     "name": "stdout",
     "output_type": "stream",
     "text": [
      "num: 15\n",
      "num: 5\n",
      "num: 50\n",
      "num: 2.0\n",
      "num: 0\n",
      "num: 100000\n"
     ]
    }
   ],
   "source": [
    "num=10\n",
    "num+=5 #num=num+5\n",
    "print(\"num:\", num)\n",
    "\n",
    "num=10\n",
    "num-=5 #num=num-5\n",
    "print(\"num:\", num)\n",
    "\n",
    "num=10\n",
    "num*=5 #num=num*5\n",
    "print(\"num:\", num)\n",
    "\n",
    "num=10\n",
    "num/=5 #num=num/5\n",
    "print(\"num:\", num)\n",
    "\n",
    "num=10\n",
    "num%=5 #num=num%5\n",
    "print(\"num:\", num)\n",
    "\n",
    "num=10\n",
    "num**=5 #num=num**5\n",
    "print(\"num:\", num)"
   ]
  },
  {
   "cell_type": "markdown",
   "id": "ffb37640",
   "metadata": {},
   "source": [
    "# 4.Logical operator"
   ]
  },
  {
   "cell_type": "code",
   "execution_count": 11,
   "id": "e318e092",
   "metadata": {},
   "outputs": [
    {
     "name": "stdout",
     "output_type": "stream",
     "text": [
      "False\n",
      "True\n",
      "False\n",
      "True\n",
      "AND operator: True\n",
      "OR operator: True\n",
      "AND operator: False\n",
      "OR operator: True\n",
      "AND operator: False\n",
      "OR operator: False\n",
      "AND operator: False\n",
      "OR operator: True\n"
     ]
    }
   ],
   "source": [
    "a= 50\n",
    "b=20\n",
    "print(not True)\n",
    "print(not False)\n",
    "\n",
    "print(not (a>b))\n",
    "print(not (a<b))\n",
    "\n",
    "val1= True\n",
    "val2= True\n",
    "print(\"AND operator:\", val1 and val2)\n",
    "print(\"OR operator:\", val1 or val2)\n",
    "\n",
    "val1= True\n",
    "val2= False\n",
    "print(\"AND operator:\", val1 and val2)\n",
    "print(\"OR operator:\", val1 or val2)\n",
    "\n",
    "val1= False\n",
    "val2= False\n",
    "print(\"AND operator:\", val1 and val2)\n",
    "print(\"OR operator:\", val1 or val2)\n",
    "\n",
    "#a=50 & b=20\n",
    "print(\"AND operator:\", (a==b) and (a>b))\n",
    "print(\"OR operator:\", (a==b) or (a>=b))"
   ]
  },
  {
   "cell_type": "markdown",
   "id": "9affc3ca",
   "metadata": {},
   "source": [
    "# Type conversion \n",
    "Data type conversion automatically"
   ]
  },
  {
   "cell_type": "code",
   "execution_count": 13,
   "id": "302cdb41",
   "metadata": {},
   "outputs": [
    {
     "name": "stdout",
     "output_type": "stream",
     "text": [
      "6.25\n"
     ]
    }
   ],
   "source": [
    "a=2 #int\n",
    "b=4.25 #float\n",
    "\n",
    "sum=a+b #Python automatically converts int value into float [2.0+4.25]\n",
    "print(sum)"
   ]
  },
  {
   "cell_type": "markdown",
   "id": "fc189f9b",
   "metadata": {},
   "source": [
    "# Type Casting\n",
    "Data type conversion manually"
   ]
  },
  {
   "cell_type": "code",
   "execution_count": 14,
   "id": "5c1751ce",
   "metadata": {},
   "outputs": [
    {
     "name": "stdout",
     "output_type": "stream",
     "text": [
      "6.25\n",
      "<class 'str'>\n"
     ]
    }
   ],
   "source": [
    "#Let a= \"2\" and b =4.45 \n",
    "#ERROR [we cannot add string type to float or integer]\n",
    "a=int(\"2\") ##To change the string type into integer\n",
    "b=4.25 #float\n",
    "\n",
    "sum=a+b \n",
    "print(sum)\n",
    "\n",
    "c=3.14\n",
    "c= str(c)\n",
    "print(type(c))"
   ]
  },
  {
   "cell_type": "markdown",
   "id": "dbbaa683",
   "metadata": {},
   "source": [
    "# Input in Python\n",
    "input( ) statement is used to accept values (manually using keyboard) from user"
   ]
  },
  {
   "cell_type": "code",
   "execution_count": 15,
   "id": "4986497d",
   "metadata": {},
   "outputs": [
    {
     "name": "stdout",
     "output_type": "stream",
     "text": [
      "Enter your name:Diksha Singh\n",
      "Welcome Diksha Singh\n",
      "<class 'str'> Diksha Singh\n"
     ]
    }
   ],
   "source": [
    "#Result for input() is always a string\n",
    "name= input(\"Enter your name:\") \n",
    "print(\"Welcome\", name)\n",
    "print(type(name), name) #ALWAYS STRING"
   ]
  },
  {
   "cell_type": "markdown",
   "id": "56d200b2",
   "metadata": {},
   "source": [
    "TO DETERMINE THE ACCURATE DATA TYPE WE USE TYPECASTING"
   ]
  },
  {
   "cell_type": "code",
   "execution_count": 17,
   "id": "ca43f987",
   "metadata": {},
   "outputs": [
    {
     "name": "stdout",
     "output_type": "stream",
     "text": [
      "Enter your age:23\n",
      "your age is 23\n",
      "<class 'int'> 23\n"
     ]
    }
   ],
   "source": [
    "age= int(input(\"Enter your age:\")) #To convert into int\n",
    "print(\"your age is\", age)\n",
    "print(type(age), age) #ALWAYS STRING"
   ]
  },
  {
   "cell_type": "markdown",
   "id": "65623ac0",
   "metadata": {},
   "source": [
    "# PRACTICE QUESTIONS"
   ]
  },
  {
   "cell_type": "markdown",
   "id": "fce6aa69",
   "metadata": {},
   "source": [
    "1. Write a Program to input two numbers & print their sum."
   ]
  },
  {
   "cell_type": "code",
   "execution_count": 18,
   "id": "c95454dd",
   "metadata": {},
   "outputs": [
    {
     "name": "stdout",
     "output_type": "stream",
     "text": [
      "Enter number 1 : 12\n",
      "Enter number 2 : 13\n",
      "The sum is:  25\n"
     ]
    }
   ],
   "source": [
    "num1 = int(input(\"Enter first number : \"))\n",
    "num2 = int(input(\"Enter second number : \"))\n",
    "print(\"The sum is: \",(num1 + num2))"
   ]
  },
  {
   "cell_type": "markdown",
   "id": "af34468c",
   "metadata": {},
   "source": [
    "2. Write a Program to input side of a square & print its area."
   ]
  },
  {
   "cell_type": "code",
   "execution_count": 20,
   "id": "477cea5c",
   "metadata": {},
   "outputs": [
    {
     "name": "stdout",
     "output_type": "stream",
     "text": [
      "Enter the side of the square : 12\n",
      "Area of Square is :  144.0\n"
     ]
    }
   ],
   "source": [
    "side = float(input(\"Enter the side of the square : \"))\n",
    "print(\"Area of Square is : \", (side*side))"
   ]
  },
  {
   "cell_type": "markdown",
   "id": "47448058",
   "metadata": {},
   "source": [
    "3. Write a Program to input two floating point numbers & print their average."
   ]
  },
  {
   "cell_type": "code",
   "execution_count": 21,
   "id": "3aa98d4e",
   "metadata": {},
   "outputs": [
    {
     "name": "stdout",
     "output_type": "stream",
     "text": [
      "Enter number 1 : 12.5\n",
      "Enter number 2 : 15.3\n",
      "The average is :  13.9\n"
     ]
    }
   ],
   "source": [
    "number1 = float(input(\"Enter number 1 : \"))\n",
    "number2 = float(input(\"Enter number 2 : \"))\n",
    "average  = (number1 + number2 ) / 2\n",
    "print(\"The average is : \",average)"
   ]
  },
  {
   "cell_type": "markdown",
   "id": "748c445b",
   "metadata": {},
   "source": [
    "4. Write a Program to input two int numbers, a and b. Print True if a is greater than or equal to b. If not print False."
   ]
  },
  {
   "cell_type": "code",
   "execution_count": 22,
   "id": "524f797c",
   "metadata": {},
   "outputs": [
    {
     "name": "stdout",
     "output_type": "stream",
     "text": [
      "Enter number 1 : 13\n",
      "Enter number 2 : 9\n",
      "True\n"
     ]
    }
   ],
   "source": [
    "a = int(input(\"Enter number 1 : \"))\n",
    "b = int(input(\"Enter number 2 : \"))\n",
    "print(a>=b)"
   ]
  },
  {
   "cell_type": "code",
   "execution_count": null,
   "id": "ead505f1",
   "metadata": {},
   "outputs": [],
   "source": []
  }
 ],
 "metadata": {
  "kernelspec": {
   "display_name": "Python 3 (ipykernel)",
   "language": "python",
   "name": "python3"
  },
  "language_info": {
   "codemirror_mode": {
    "name": "ipython",
    "version": 3
   },
   "file_extension": ".py",
   "mimetype": "text/x-python",
   "name": "python",
   "nbconvert_exporter": "python",
   "pygments_lexer": "ipython3",
   "version": "3.11.5"
  }
 },
 "nbformat": 4,
 "nbformat_minor": 5
}
