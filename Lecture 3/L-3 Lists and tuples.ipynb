{
 "cells": [
  {
   "cell_type": "markdown",
   "id": "347eaeda",
   "metadata": {},
   "source": [
    "# LECTURE 3"
   ]
  },
  {
   "cell_type": "markdown",
   "id": "b11ce0c7",
   "metadata": {},
   "source": [
    "# Lists in Python\n",
    "\n",
    "A built-in data type that stores set of values.\n",
    "It can store elements of different types together (integer, float, string, etc.)"
   ]
  },
  {
   "cell_type": "code",
   "execution_count": 1,
   "id": "78f08246",
   "metadata": {},
   "outputs": [
    {
     "name": "stdout",
     "output_type": "stream",
     "text": [
      "[95.9, 78.5, 89.4, 96.7, 76.9]\n",
      "<class 'list'>\n"
     ]
    }
   ],
   "source": [
    "marks= [95.9, 78.5, 89.4, 96.7, 76.9]\n",
    "print(marks)\n",
    "print(type(marks))"
   ]
  },
  {
   "cell_type": "code",
   "execution_count": 2,
   "id": "6d3ac964",
   "metadata": {},
   "outputs": [
    {
     "name": "stdout",
     "output_type": "stream",
     "text": [
      "96.7\n"
     ]
    }
   ],
   "source": [
    "marks= [95.9, 78.5, 89.4, 96.7, 76.9]\n",
    "print(marks[3])"
   ]
  },
  {
   "cell_type": "code",
   "execution_count": 3,
   "id": "d05198c3",
   "metadata": {},
   "outputs": [],
   "source": [
    "student= [\"Karan\", 56, \"Delhi\"] #elements of different types"
   ]
  },
  {
   "cell_type": "markdown",
   "id": "487e3a60",
   "metadata": {},
   "source": [
    "In python, Strings are immutable(cannot change) and lists are mutable(can change) "
   ]
  },
  {
   "cell_type": "code",
   "execution_count": 4,
   "id": "5ce721b4",
   "metadata": {},
   "outputs": [
    {
     "name": "stdout",
     "output_type": "stream",
     "text": [
      "Karan\n",
      "['Arjun', 56, 'Delhi']\n"
     ]
    }
   ],
   "source": [
    "student= [\"Karan\", 56, \"Delhi\"]\n",
    "print(student[0])\n",
    "student[0]= 'Arjun'\n",
    "print(student)"
   ]
  },
  {
   "cell_type": "markdown",
   "id": "51f6d959",
   "metadata": {},
   "source": [
    "# List Slicing - Similar to String Slicing\n",
    "#  list_name[ starting_idx : ending_idx ]  \n",
    "#ending idx is not included"
   ]
  },
  {
   "cell_type": "code",
   "execution_count": 5,
   "id": "ff0b60ff",
   "metadata": {},
   "outputs": [
    {
     "name": "stdout",
     "output_type": "stream",
     "text": [
      "[78.5, 89.4, 96.7]\n"
     ]
    }
   ],
   "source": [
    "marks= [95.9, 78.5, 89.4, 96.7, 76.9]\n",
    "print(marks[1:4])"
   ]
  },
  {
   "cell_type": "code",
   "execution_count": 6,
   "id": "e165bddf",
   "metadata": {},
   "outputs": [
    {
     "name": "stdout",
     "output_type": "stream",
     "text": [
      "[95.9, 78.5, 89.4, 96.7]\n"
     ]
    }
   ],
   "source": [
    "marks= [95.9, 78.5, 89.4, 96.7, 76.9]\n",
    "print(marks[:4])"
   ]
  },
  {
   "cell_type": "code",
   "execution_count": 7,
   "id": "883bc47e",
   "metadata": {},
   "outputs": [
    {
     "name": "stdout",
     "output_type": "stream",
     "text": [
      "[78.5, 89.4, 96.7, 76.9]\n"
     ]
    }
   ],
   "source": [
    "marks= [95.9, 78.5, 89.4, 96.7, 76.9]\n",
    "print(marks[1:])"
   ]
  },
  {
   "cell_type": "markdown",
   "id": "d9aed3cf",
   "metadata": {},
   "source": [
    "Negative Slicing"
   ]
  },
  {
   "cell_type": "code",
   "execution_count": 8,
   "id": "ddb15706",
   "metadata": {},
   "outputs": [
    {
     "name": "stdout",
     "output_type": "stream",
     "text": [
      "[89.4, 96.7]\n"
     ]
    }
   ],
   "source": [
    "marks= [95.9, 78.5, 89.4, 96.7, 76.9]\n",
    "print(marks[-3:-1])"
   ]
  },
  {
   "cell_type": "markdown",
   "id": "e97f88a1",
   "metadata": {},
   "source": [
    "# LIST METHODS"
   ]
  },
  {
   "cell_type": "markdown",
   "id": "a0ab9007",
   "metadata": {},
   "source": [
    "# 1. list.append():   \n",
    "This method appends items to the end of the existing list"
   ]
  },
  {
   "cell_type": "code",
   "execution_count": 9,
   "id": "5b3d7c82",
   "metadata": {},
   "outputs": [
    {
     "name": "stdout",
     "output_type": "stream",
     "text": [
      "[2, 3, 5, 4]\n"
     ]
    }
   ],
   "source": [
    "list = [2,3,5]\n",
    "list.append(4)\n",
    "print(list)"
   ]
  },
  {
   "cell_type": "markdown",
   "id": "c6ef808b",
   "metadata": {},
   "source": [
    "# 2. list.sort():  \n",
    "This method sorts the list in ascending order."
   ]
  },
  {
   "cell_type": "code",
   "execution_count": 11,
   "id": "0fe32132",
   "metadata": {},
   "outputs": [
    {
     "name": "stdout",
     "output_type": "stream",
     "text": [
      "['blue', 'green', 'indigo', 'voilet']\n"
     ]
    }
   ],
   "source": [
    "colors = [\"voilet\", \"indigo\", \"blue\", \"green\"] \n",
    "colors.sort() \n",
    "print(colors) "
   ]
  },
  {
   "cell_type": "markdown",
   "id": "f5f9b52f",
   "metadata": {},
   "source": [
    "# 3. list.sort( reverse=True ) \n",
    "This method sorts th list in descending order."
   ]
  },
  {
   "cell_type": "code",
   "execution_count": 12,
   "id": "7b159043",
   "metadata": {},
   "outputs": [
    {
     "name": "stdout",
     "output_type": "stream",
     "text": [
      "[9, 8, 7, 6, 5, 4, 3, 2, 2, 2, 1, 1]\n"
     ]
    }
   ],
   "source": [
    "num = [4,2,5,3,6,1,2,1,2,8,9,7] \n",
    "num.sort(reverse=True) \n",
    "print(num)"
   ]
  },
  {
   "cell_type": "markdown",
   "id": "ad47c554",
   "metadata": {},
   "source": [
    "# 4. list.reverse():  \n",
    "This method reverses the order of the list. "
   ]
  },
  {
   "cell_type": "code",
   "execution_count": 13,
   "id": "555acabd",
   "metadata": {},
   "outputs": [
    {
     "name": "stdout",
     "output_type": "stream",
     "text": [
      "[7, 9, 8, 2, 1, 2, 1, 6, 3, 5, 2, 4]\n"
     ]
    }
   ],
   "source": [
    "num = [4,2,5,3,6,1,2,1,2,8,9,7] \n",
    "num.reverse() \n",
    "print(num)"
   ]
  },
  {
   "cell_type": "code",
   "execution_count": 15,
   "id": "8586fbe8",
   "metadata": {},
   "outputs": [
    {
     "name": "stdout",
     "output_type": "stream",
     "text": [
      "['green', 'blue', 'indigo', 'voilet']\n"
     ]
    }
   ],
   "source": [
    "colors = [\"voilet\", \"indigo\", \"blue\", \"green\"] \n",
    "colors.reverse() \n",
    "print(colors) "
   ]
  },
  {
   "cell_type": "markdown",
   "id": "7cabba2b",
   "metadata": {},
   "source": [
    "# 5. list.insert():  \n",
    "This method inserts an item at the given index. User has to specify index and the item to be inserted within the \n",
    "insert() method. "
   ]
  },
  {
   "cell_type": "code",
   "execution_count": 16,
   "id": "9fc9c985",
   "metadata": {},
   "outputs": [
    {
     "name": "stdout",
     "output_type": "stream",
     "text": [
      "['voilet', 'green', 'indigo', 'blue']\n"
     ]
    }
   ],
   "source": [
    "colors = [\"voilet\", \"indigo\", \"blue\"] \n",
    "#            [0]      [1]      [2] \n",
    " \n",
    "colors.insert(1, \"green\") #inserts item at index 1 \n",
    "# updated list: colors = [\"voilet\", \"green\", \"indigo\", \"blue\"] \n",
    "# indexs                    [0]       [1]       [2]     [3] \n",
    " \n",
    "print(colors)"
   ]
  },
  {
   "cell_type": "markdown",
   "id": "42a7790b",
   "metadata": {},
   "source": [
    "# 6. list.remove():  \n",
    "removes first occurrence of element"
   ]
  },
  {
   "cell_type": "code",
   "execution_count": 17,
   "id": "5e06ef60",
   "metadata": {},
   "outputs": [
    {
     "name": "stdout",
     "output_type": "stream",
     "text": [
      "[4, 2, 6, 3, 8, 4, 7, 0]\n"
     ]
    }
   ],
   "source": [
    "list = [4,6,2,6,3,8,4,7,0]\n",
    "list.remove(6) \n",
    "print(list)"
   ]
  },
  {
   "cell_type": "markdown",
   "id": "c4ae427e",
   "metadata": {},
   "source": [
    "# 7. list.pop():  \n",
    "removes element at index number"
   ]
  },
  {
   "cell_type": "code",
   "execution_count": 18,
   "id": "cc39ff29",
   "metadata": {},
   "outputs": [
    {
     "name": "stdout",
     "output_type": "stream",
     "text": [
      "[4, 6, 6, 3, 8, 4, 7, 0]\n"
     ]
    }
   ],
   "source": [
    "list = [4,6,2,6,3,8,4,7,0]\n",
    "list.pop( 2 ) \n",
    "print(list)"
   ]
  },
  {
   "cell_type": "markdown",
   "id": "6cdaa9c0",
   "metadata": {},
   "source": [
    "# PYTHON TUPLES"
   ]
  },
  {
   "cell_type": "markdown",
   "id": "83d86a67",
   "metadata": {},
   "source": [
    "* ordered collection of data items\n",
    "* enclosed within round brackets ()\n",
    "* Tuples are unchangeable meaning we can not alter them after creation."
   ]
  },
  {
   "cell_type": "code",
   "execution_count": 19,
   "id": "a70758cf",
   "metadata": {},
   "outputs": [
    {
     "name": "stdout",
     "output_type": "stream",
     "text": [
      "(2, 4, 6, 1, 9)\n",
      "<class 'tuple'>\n"
     ]
    }
   ],
   "source": [
    "tup = (2,4,6,1,9)\n",
    "print(tup)\n",
    "print(type(tup))"
   ]
  },
  {
   "cell_type": "code",
   "execution_count": 20,
   "id": "1583ec3a",
   "metadata": {},
   "outputs": [
    {
     "name": "stdout",
     "output_type": "stream",
     "text": [
      "()\n",
      "<class 'tuple'>\n"
     ]
    }
   ],
   "source": [
    "#empty tuple\n",
    "tup = ()\n",
    "print(tup)\n",
    "print(type(tup))"
   ]
  },
  {
   "cell_type": "code",
   "execution_count": 21,
   "id": "cbb2a8c3",
   "metadata": {},
   "outputs": [
    {
     "name": "stdout",
     "output_type": "stream",
     "text": [
      "1\n",
      "<class 'int'>\n",
      "1.6\n",
      "<class 'float'>\n",
      "hello\n",
      "<class 'str'>\n"
     ]
    }
   ],
   "source": [
    "tup = (1) #python will consider it as an integer\n",
    "print(tup)\n",
    "print(type(tup))\n",
    "\n",
    "tup = (1.6) #python will consider it as an float\n",
    "print(tup)\n",
    "print(type(tup))\n",
    "\n",
    "tup = (\"hello\") #python will consider it as an string\n",
    "print(tup)\n",
    "print(type(tup))"
   ]
  },
  {
   "cell_type": "code",
   "execution_count": 22,
   "id": "08cb264a",
   "metadata": {},
   "outputs": [
    {
     "name": "stdout",
     "output_type": "stream",
     "text": [
      "2\n"
     ]
    }
   ],
   "source": [
    "#printing via index numbers\n",
    "tup = (2,4,6,1,9)\n",
    "print(tup[0]) "
   ]
  },
  {
   "cell_type": "code",
   "execution_count": 23,
   "id": "e9b9e784",
   "metadata": {},
   "outputs": [
    {
     "name": "stdout",
     "output_type": "stream",
     "text": [
      "(4, 6)\n"
     ]
    }
   ],
   "source": [
    "#slicing\n",
    "tup = (2,4,6,1,9)\n",
    "print(tup[1:3]) "
   ]
  },
  {
   "cell_type": "markdown",
   "id": "406cf166",
   "metadata": {},
   "source": [
    "# Tuple Methods"
   ]
  },
  {
   "cell_type": "code",
   "execution_count": 24,
   "id": "8c22657f",
   "metadata": {},
   "outputs": [
    {
     "name": "stdout",
     "output_type": "stream",
     "text": [
      "1\n"
     ]
    }
   ],
   "source": [
    "#returns index of first occurrence\n",
    "tup = (2,4,6,1,9)\n",
    "print(tup.index( 4 )) "
   ]
  },
  {
   "cell_type": "code",
   "execution_count": 25,
   "id": "55a073c8",
   "metadata": {},
   "outputs": [
    {
     "name": "stdout",
     "output_type": "stream",
     "text": [
      "2\n"
     ]
    }
   ],
   "source": [
    "#counts total occurrences\n",
    "tup = (2,4,6,1,9,9)\n",
    "print(tup.count( 9 )) "
   ]
  },
  {
   "cell_type": "markdown",
   "id": "db71134a",
   "metadata": {},
   "source": [
    "# PRACTICE QUESTIONS"
   ]
  },
  {
   "cell_type": "markdown",
   "id": "9f842a46",
   "metadata": {},
   "source": [
    "# WAP to ask the user to enter names of their 3 favorite movies & store them in a list."
   ]
  },
  {
   "cell_type": "code",
   "execution_count": 1,
   "id": "4c524f8c",
   "metadata": {},
   "outputs": [
    {
     "name": "stdout",
     "output_type": "stream",
     "text": [
      "Enter first movie: The Notebook\n",
      "Enter second movie: Me before you\n",
      "Enter third movie: Before sunrise\n",
      "['The Notebook', 'Me before you', 'Before sunrise']\n"
     ]
    }
   ],
   "source": [
    "movies = []\n",
    "mov1 = input(\"Enter first movie: \")\n",
    "mov2 = input(\"Enter second movie: \")\n",
    "mov3 = input(\"Enter third movie: \")\n",
    "\n",
    "movies.append(mov1)\n",
    "movies.append(mov2)\n",
    "movies.append(mov3)\n",
    "\n",
    "print(movies)"
   ]
  },
  {
   "cell_type": "code",
   "execution_count": 2,
   "id": "0f6bf82d",
   "metadata": {},
   "outputs": [
    {
     "name": "stdout",
     "output_type": "stream",
     "text": [
      "Enter first movie: The Notebook\n",
      "Enter first movie: Inception\n",
      "Enter first movie: Interstellar\n",
      "['The Notebook', 'Inception', 'Interstellar']\n"
     ]
    }
   ],
   "source": [
    "#OR \n",
    "movies = []\n",
    "\n",
    "movies.append(input(\"Enter first movie: \"))\n",
    "movies.append(input(\"Enter first movie: \"))\n",
    "movies.append(input(\"Enter first movie: \"))\n",
    "\n",
    "print(movies)"
   ]
  },
  {
   "cell_type": "markdown",
   "id": "0a5f0459",
   "metadata": {},
   "source": [
    "# WAP to check if a list contains a palindrome of elements."
   ]
  },
  {
   "cell_type": "code",
   "execution_count": 3,
   "id": "bf6dcb32",
   "metadata": {},
   "outputs": [
    {
     "name": "stdout",
     "output_type": "stream",
     "text": [
      "Palindrome\n"
     ]
    }
   ],
   "source": [
    "list = [1,2,3,2,1]\n",
    "copy_list = list.copy()\n",
    "copy_list.reverse()\n",
    "if (copy_list == list):\n",
    "    print(\"Palindrome\")\n",
    "else:\n",
    "    print('Not Palindrome')"
   ]
  },
  {
   "cell_type": "code",
   "execution_count": 4,
   "id": "fb7b097f",
   "metadata": {},
   "outputs": [
    {
     "name": "stdout",
     "output_type": "stream",
     "text": [
      "Not Palindrome\n"
     ]
    }
   ],
   "source": [
    "list = ['h', 'e', 'l', 'l','o' ]\n",
    "copy_list = list.copy()\n",
    "copy_list.reverse()\n",
    "if (copy_list == list):\n",
    "    print(\"Palindrome\")\n",
    "else:\n",
    "    print('Not Palindrome')"
   ]
  },
  {
   "cell_type": "markdown",
   "id": "1d153a86",
   "metadata": {},
   "source": [
    "# WAP to count the number of students with the \"A\" grade in the following tuple."
   ]
  },
  {
   "cell_type": "code",
   "execution_count": 5,
   "id": "11fbc29f",
   "metadata": {},
   "outputs": [
    {
     "name": "stdout",
     "output_type": "stream",
     "text": [
      "Total count of A in the tuple:  3\n"
     ]
    }
   ],
   "source": [
    "grade = (\"C\",\"D\",\"A\",\"A\",\"B\",\"B\",\"A\") #tuple\n",
    "print(\"Total count of A in the tuple: \", grade.count(\"A\"))"
   ]
  },
  {
   "cell_type": "markdown",
   "id": "1ed140c8",
   "metadata": {},
   "source": [
    "Then store the above values in a list & sort them from “A” to “D”"
   ]
  },
  {
   "cell_type": "code",
   "execution_count": 6,
   "id": "e279ca18",
   "metadata": {},
   "outputs": [
    {
     "name": "stdout",
     "output_type": "stream",
     "text": [
      "['A', 'A', 'A', 'B', 'B', 'C', 'D']\n"
     ]
    }
   ],
   "source": [
    "students = [\"C\",\"D\",\"A\",\"A\",\"B\",\"B\",\"A\"] #list\n",
    "students.sort()\n",
    "print(students)"
   ]
  },
  {
   "cell_type": "code",
   "execution_count": null,
   "id": "7cfb625f",
   "metadata": {},
   "outputs": [],
   "source": []
  }
 ],
 "metadata": {
  "kernelspec": {
   "display_name": "Python 3 (ipykernel)",
   "language": "python",
   "name": "python3"
  },
  "language_info": {
   "codemirror_mode": {
    "name": "ipython",
    "version": 3
   },
   "file_extension": ".py",
   "mimetype": "text/x-python",
   "name": "python",
   "nbconvert_exporter": "python",
   "pygments_lexer": "ipython3",
   "version": "3.11.5"
  }
 },
 "nbformat": 4,
 "nbformat_minor": 5
}
