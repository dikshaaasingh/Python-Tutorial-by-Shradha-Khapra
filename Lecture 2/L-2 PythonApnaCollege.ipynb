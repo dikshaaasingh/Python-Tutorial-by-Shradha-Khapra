{
 "cells": [
  {
   "cell_type": "markdown",
   "id": "612174be",
   "metadata": {},
   "source": [
    "# LECTURE 2"
   ]
  },
  {
   "cell_type": "markdown",
   "id": "f6068a98",
   "metadata": {},
   "source": [
    "# What are strings?  "
   ]
  },
  {
   "cell_type": "markdown",
   "id": "15a45fa4",
   "metadata": {},
   "source": [
    "In python, anything that you enclose between single or double quotation marks is considered a \n",
    "string. \n",
    "A sequence or array of textual data.\n",
    "Strings are used when working with Unicode characters."
   ]
  },
  {
   "cell_type": "code",
   "execution_count": 1,
   "id": "e98172b5",
   "metadata": {},
   "outputs": [],
   "source": [
    "str1 = \"First string\"\n",
    "str2 = 'Second string'\n",
    "str3 = \"\"\"\"Third string\"\"\""
   ]
  },
  {
   "cell_type": "markdown",
   "id": "1dd17bfd",
   "metadata": {},
   "source": [
    "# The user might need to put quotation marks in between the strings.  \n",
    "Here we made use of \"\" and ' to seperate the characters"
   ]
  },
  {
   "cell_type": "code",
   "execution_count": 2,
   "id": "16172395",
   "metadata": {},
   "outputs": [
    {
     "name": "stdout",
     "output_type": "stream",
     "text": [
      "He said, \"I want to eat an apple\".\n"
     ]
    }
   ],
   "source": [
    "print('He said, \"I want to eat an apple\".')"
   ]
  },
  {
   "cell_type": "code",
   "execution_count": 3,
   "id": "380522ad",
   "metadata": {},
   "outputs": [
    {
     "name": "stdout",
     "output_type": "stream",
     "text": [
      "He said, \"I don't want to eat an apple\".\n"
     ]
    }
   ],
   "source": [
    "print('''He said, \"I don't want to eat an apple\".''')"
   ]
  },
  {
   "cell_type": "markdown",
   "id": "31b52537",
   "metadata": {},
   "source": [
    "# Escape Sequence Characters"
   ]
  },
  {
   "cell_type": "markdown",
   "id": "89abbbac",
   "metadata": {},
   "source": [
    "To insert characters that cannot be directly used in a string, we use an escape sequence \n",
    "character. \n",
    "An escape sequence character is a backslash \\ followed by the character you want to insert. \n"
   ]
  },
  {
   "cell_type": "code",
   "execution_count": 4,
   "id": "896c005b",
   "metadata": {},
   "outputs": [
    {
     "name": "stdout",
     "output_type": "stream",
     "text": [
      "First line \n",
      "This is the second line\n"
     ]
    }
   ],
   "source": [
    "str = \"First line \\nThis is the second line\"\n",
    "print(str)"
   ]
  },
  {
   "cell_type": "markdown",
   "id": "e3535c2e",
   "metadata": {},
   "source": [
    "Escape sequence characters are used for formatting. \n",
    "1. \\t for a tab space\n",
    "2. \\n for next line"
   ]
  },
  {
   "cell_type": "code",
   "execution_count": 5,
   "id": "225807f4",
   "metadata": {},
   "outputs": [
    {
     "name": "stdout",
     "output_type": "stream",
     "text": [
      "First line \t This is the second line\n"
     ]
    }
   ],
   "source": [
    "str = \"First line \\t This is the second line\"\n",
    "print(str)"
   ]
  },
  {
   "cell_type": "markdown",
   "id": "3ed30710",
   "metadata": {},
   "source": [
    "# STRING OPERATIONS \n",
    "# Concatenation"
   ]
  },
  {
   "cell_type": "code",
   "execution_count": 6,
   "id": "ce1d18cf",
   "metadata": {},
   "outputs": [
    {
     "name": "stdout",
     "output_type": "stream",
     "text": [
      "Diksha Singh\n"
     ]
    }
   ],
   "source": [
    "str1 = \"Diksha \"\n",
    "str2 = \"Singh\"\n",
    "final_str = str1 + str2\n",
    "print(final_str)"
   ]
  },
  {
   "cell_type": "markdown",
   "id": "a5bbb71e",
   "metadata": {},
   "source": [
    "# Length of a String \n",
    "We can find the length of a string using len() function. \n"
   ]
  },
  {
   "cell_type": "code",
   "execution_count": 7,
   "id": "61ae7384",
   "metadata": {},
   "outputs": [
    {
     "name": "stdout",
     "output_type": "stream",
     "text": [
      "7\n",
      "5\n"
     ]
    }
   ],
   "source": [
    "str1 = \"Diksha \"\n",
    "print(len(str1))\n",
    "\n",
    "str2 = \"Singh\"\n",
    "print(len(str2))"
   ]
  },
  {
   "cell_type": "markdown",
   "id": "315a7d14",
   "metadata": {},
   "source": [
    "# Indexing \n",
    "Index is a position of the characters "
   ]
  },
  {
   "cell_type": "code",
   "execution_count": 8,
   "id": "80b761b8",
   "metadata": {},
   "outputs": [
    {
     "name": "stdout",
     "output_type": "stream",
     "text": [
      "l\n"
     ]
    }
   ],
   "source": [
    "str = \"Apna_College\"\n",
    "# str[0] is ‘A’, str[1] is ‘p’ ...\n",
    "ch= str[7]\n",
    "print (ch) #OR print(str[7])"
   ]
  },
  {
   "cell_type": "markdown",
   "id": "c37d00c6",
   "metadata": {},
   "source": [
    "we can access not modify via indexing."
   ]
  },
  {
   "cell_type": "markdown",
   "id": "181e9967",
   "metadata": {},
   "source": [
    "# Slicing (Accessing parts of a string)\n",
    "str[ starting_idx : ending_idx ] : ending idx is not included"
   ]
  },
  {
   "cell_type": "code",
   "execution_count": 9,
   "id": "934ce517",
   "metadata": {},
   "outputs": [
    {
     "name": "stdout",
     "output_type": "stream",
     "text": [
      "pnaC\n",
      "ApnaC\n",
      "ollege\n",
      "naCo\n"
     ]
    }
   ],
   "source": [
    "str =  \"ApnaCollege\"\n",
    "print(str[1:5]) \n",
    "print(str[:5]) #Slicing from Start  \n",
    "print(str[5:]) #Slicing till End OR str[5:len(str)]\n",
    "print(str[2:6]) #Slicing in between "
   ]
  },
  {
   "cell_type": "markdown",
   "id": "1a993c27",
   "metadata": {},
   "source": [
    "# Slicing using negative index"
   ]
  },
  {
   "cell_type": "code",
   "execution_count": 11,
   "id": "c14ddd17",
   "metadata": {},
   "outputs": [
    {
     "name": "stdout",
     "output_type": "stream",
     "text": [
      "pl\n"
     ]
    }
   ],
   "source": [
    "str = \"Apple\"\n",
    "print(str[ -3 : -1 ]) # is “pl”"
   ]
  },
  {
   "cell_type": "markdown",
   "id": "95fd7b13",
   "metadata": {},
   "source": [
    "# STRING FUNCTONS"
   ]
  },
  {
   "cell_type": "markdown",
   "id": "d6e7b16d",
   "metadata": {},
   "source": [
    "1. endswith():   \n",
    "The endswith() method checks if the string ends with a given value. If yes then return True, else \n",
    "return False. "
   ]
  },
  {
   "cell_type": "code",
   "execution_count": 12,
   "id": "e3e02ee3",
   "metadata": {},
   "outputs": [
    {
     "name": "stdout",
     "output_type": "stream",
     "text": [
      "True\n"
     ]
    }
   ],
   "source": [
    "str = \"i am a coder.\"\n",
    "print(str.endswith(\"er.\"))"
   ]
  },
  {
   "cell_type": "code",
   "execution_count": 14,
   "id": "9d19ea32",
   "metadata": {},
   "outputs": [
    {
     "name": "stdout",
     "output_type": "stream",
     "text": [
      "False\n"
     ]
    }
   ],
   "source": [
    "str1 = \"Welcome to the Console !!!\" \n",
    "print(str1.endswith(\"tion\")) "
   ]
  },
  {
   "cell_type": "markdown",
   "id": "981569ba",
   "metadata": {},
   "source": [
    "2. capitalize():  \n",
    "The capitalize() method turns only the first character of the string to uppercase and the rest other \n",
    "characters of the string are turned to lowercase. The string has no effect if the first character is \n",
    "already uppercase. "
   ]
  },
  {
   "cell_type": "code",
   "execution_count": 15,
   "id": "dfb9226f",
   "metadata": {},
   "outputs": [
    {
     "name": "stdout",
     "output_type": "stream",
     "text": [
      "Hello\n"
     ]
    }
   ],
   "source": [
    "str1 = \"hello\" \n",
    "capStr1 = str1.capitalize() \n",
    "print(capStr1) "
   ]
  },
  {
   "cell_type": "code",
   "execution_count": 16,
   "id": "eb3bdc41",
   "metadata": {},
   "outputs": [
    {
     "name": "stdout",
     "output_type": "stream",
     "text": [
      "Hello world\n"
     ]
    }
   ],
   "source": [
    "str2 = \"hello WorlD\" \n",
    "capStr2 = str2.capitalize() \n",
    "print(capStr2) \n"
   ]
  },
  {
   "cell_type": "markdown",
   "id": "b01bd08e",
   "metadata": {},
   "source": [
    "3. replace():  \n",
    "The replace() method replaces all occurences of a string with another string"
   ]
  },
  {
   "cell_type": "code",
   "execution_count": 17,
   "id": "b52097fe",
   "metadata": {},
   "outputs": [
    {
     "name": "stdout",
     "output_type": "stream",
     "text": [
      "i ma a coder.\n"
     ]
    }
   ],
   "source": [
    "str = \"i am a coder.\"\n",
    "print(str.replace(\"am\", \"ma\"))"
   ]
  },
  {
   "cell_type": "markdown",
   "id": "d00d601f",
   "metadata": {},
   "source": [
    "4. find() :  \n",
    "The find() method searches for the first occurrence of the given value and returns the index \n",
    "where it is present. If given value is absent from the string then return -1. "
   ]
  },
  {
   "cell_type": "code",
   "execution_count": 18,
   "id": "b4609ba1",
   "metadata": {},
   "outputs": [
    {
     "name": "stdout",
     "output_type": "stream",
     "text": [
      "7\n"
     ]
    }
   ],
   "source": [
    "str = \"i am a coder.\"\n",
    "print(str.find(\"coder\"))"
   ]
  },
  {
   "cell_type": "markdown",
   "id": "168d3b38",
   "metadata": {},
   "source": [
    "5. count() :   \n",
    "The count() method returns the number of times the given value has occurred within the given \n",
    "string."
   ]
  },
  {
   "cell_type": "code",
   "execution_count": 19,
   "id": "5ec8f1da",
   "metadata": {},
   "outputs": [
    {
     "name": "stdout",
     "output_type": "stream",
     "text": [
      "1\n"
     ]
    }
   ],
   "source": [
    "str = \"i am a coder.\"\n",
    "print(str.count(\"am\"))"
   ]
  },
  {
   "cell_type": "markdown",
   "id": "0d1b819c",
   "metadata": {},
   "source": [
    "# PRACTICE QUESTIONS"
   ]
  },
  {
   "cell_type": "markdown",
   "id": "56da7422",
   "metadata": {},
   "source": [
    "# 1. WAP to input user’s first name & print its length."
   ]
  },
  {
   "cell_type": "code",
   "execution_count": 20,
   "id": "044d8410",
   "metadata": {},
   "outputs": [
    {
     "name": "stdout",
     "output_type": "stream",
     "text": [
      "Enter first name: Diksha\n",
      "Diksha\n",
      "6\n"
     ]
    }
   ],
   "source": [
    "first_name = input('Enter first name: ')\n",
    "print(first_name)\n",
    "print(len(first_name))"
   ]
  },
  {
   "cell_type": "markdown",
   "id": "3dfd50f6",
   "metadata": {},
   "source": [
    "# 2. WAP to find the occurrence of dollar sign in a String."
   ]
  },
  {
   "cell_type": "code",
   "execution_count": 21,
   "id": "31406542",
   "metadata": {},
   "outputs": [
    {
     "name": "stdout",
     "output_type": "stream",
     "text": [
      "4\n"
     ]
    }
   ],
   "source": [
    "dollar_sign = \"$I am a $olla$ sign$\"\n",
    "print(dollar_sign.count(\"$\"))"
   ]
  },
  {
   "cell_type": "markdown",
   "id": "b952170e",
   "metadata": {},
   "source": [
    "# CONDITIONAL STATEMENTS"
   ]
  },
  {
   "cell_type": "markdown",
   "id": "ba8a1c4d",
   "metadata": {},
   "source": [
    "If Statement"
   ]
  },
  {
   "cell_type": "code",
   "execution_count": 22,
   "id": "1b85bc91",
   "metadata": {},
   "outputs": [
    {
     "name": "stdout",
     "output_type": "stream",
     "text": [
      "Can vote and apply for license\n"
     ]
    }
   ],
   "source": [
    "age=24\n",
    "\n",
    "if(age>=18):\n",
    "   print(\"Can vote and apply for license\")"
   ]
  },
  {
   "cell_type": "code",
   "execution_count": 26,
   "id": "4cf2bc1b",
   "metadata": {},
   "outputs": [
    {
     "name": "stdout",
     "output_type": "stream",
     "text": [
      "Can vote\n",
      "Can drive\n"
     ]
    }
   ],
   "source": [
    "age3=21\n",
    "if(age3>=18):\n",
    "   print(\"Can vote\")\n",
    "   print(\"Can drive\")"
   ]
  },
  {
   "cell_type": "markdown",
   "id": "e0f1f618",
   "metadata": {},
   "source": [
    "Elif Statement"
   ]
  },
  {
   "cell_type": "code",
   "execution_count": 29,
   "id": "abfc5c82",
   "metadata": {},
   "outputs": [
    {
     "name": "stdout",
     "output_type": "stream",
     "text": [
      "go\n",
      "end of code\n"
     ]
    }
   ],
   "source": [
    "light=\"green\"\n",
    "if(light == \"red\"):\n",
    "    print(\"stop\")\n",
    "elif(light == \"green\"):\n",
    "    print(\"go\")\n",
    "elif(light == \"yellow\"):\n",
    "    print(\"wait\")\n",
    "\n",
    "print(\"end of code\")"
   ]
  },
  {
   "cell_type": "markdown",
   "id": "87157c81",
   "metadata": {},
   "source": [
    "If checks all the conditions"
   ]
  },
  {
   "cell_type": "code",
   "execution_count": 30,
   "id": "05a3f03b",
   "metadata": {},
   "outputs": [
    {
     "name": "stdout",
     "output_type": "stream",
     "text": [
      "number is greater than 2\n",
      "number is greater than 3\n"
     ]
    }
   ],
   "source": [
    "num = 5\n",
    "if(num>2):\n",
    "    print(\"number is greater than 2\")\n",
    "if (num>3):\n",
    "    print(\"number is greater than 3\")"
   ]
  },
  {
   "cell_type": "markdown",
   "id": "42bcc000",
   "metadata": {},
   "source": [
    "# Working of an elif statement \n",
    "1. Execute the block of code inside if statement if the initial expression evaluates to True. After \n",
    "execution return to the code out of the if block. \n",
    "2. Execute the block of code inside the first elif statement if the expression inside it evaluates True. \n",
    "After execution return to the code out of the if block. \n",
    "3. Execute the block of code inside the second elif statement if the expression inside it evaluates \n",
    "True. After execution return to the code out of the if block. AND SO ON..."
   ]
  },
  {
   "cell_type": "code",
   "execution_count": 31,
   "id": "cfdf5b91",
   "metadata": {},
   "outputs": [
    {
     "name": "stdout",
     "output_type": "stream",
     "text": [
      "number is greater than 2\n"
     ]
    }
   ],
   "source": [
    "num = 5\n",
    "if(num>2):\n",
    "    print(\"number is greater than 2\")\n",
    "elif (num>3):\n",
    "    print(\"number is greater than 3\")"
   ]
  },
  {
   "cell_type": "markdown",
   "id": "ec38fd6a",
   "metadata": {},
   "source": [
    "# If-else\n",
    "If all the conditions of if or elif are false, else statement will be executed"
   ]
  },
  {
   "cell_type": "code",
   "execution_count": 32,
   "id": "e58a1f8d",
   "metadata": {},
   "outputs": [
    {
     "name": "stdout",
     "output_type": "stream",
     "text": [
      "go\n"
     ]
    }
   ],
   "source": [
    "light=\"green\"\n",
    "if(light == \"red\"):\n",
    "    print(\"stop\")\n",
    "elif(light == \"green\"):\n",
    "    print(\"go\")\n",
    "elif(light == \"yellow\"):\n",
    "    print(\"wait\")\n",
    "else:\n",
    "    print(\"The light is broken\")"
   ]
  },
  {
   "cell_type": "code",
   "execution_count": 33,
   "id": "e4b1c796",
   "metadata": {},
   "outputs": [
    {
     "name": "stdout",
     "output_type": "stream",
     "text": [
      "The light is broken\n"
     ]
    }
   ],
   "source": [
    "light=\"pink\"\n",
    "if(light == \"red\"):\n",
    "    print(\"stop\")\n",
    "elif(light == \"green\"):\n",
    "    print(\"go\")\n",
    "elif(light == \"yellow\"):\n",
    "    print(\"wait\")\n",
    "else:\n",
    "    print(\"The light is broken\")"
   ]
  },
  {
   "cell_type": "code",
   "execution_count": 34,
   "id": "da154295",
   "metadata": {},
   "outputs": [
    {
     "name": "stdout",
     "output_type": "stream",
     "text": [
      "Cannot vote\n"
     ]
    }
   ],
   "source": [
    "age=14\n",
    "if(age>=18):\n",
    "   print(\"Can vote\")\n",
    "else:\n",
    "   print(\"Cannot vote\")"
   ]
  },
  {
   "cell_type": "markdown",
   "id": "a2a02e3d",
   "metadata": {},
   "source": [
    "# Grade students based on marks\n",
    "\n",
    "marks >= 90, grade = “A”;\n",
    "90 > marks >= 80, grade =“B”;\n",
    "80 > marks >= 70, grade =“C”;\n",
    "70 > marks, grade = “D”\n"
   ]
  },
  {
   "cell_type": "code",
   "execution_count": 35,
   "id": "aa98da90",
   "metadata": {},
   "outputs": [
    {
     "name": "stdout",
     "output_type": "stream",
     "text": [
      "Grade B\n"
     ]
    }
   ],
   "source": [
    "marks = 86\n",
    "\n",
    "if marks >= 90:\n",
    "    print(\"Grade A\")\n",
    "elif marks >= 80:\n",
    "    print(\"Grade B\")\n",
    "elif marks >= 70:\n",
    "    print(\"Grade C\")\n",
    "else:\n",
    "    print(\"Grade D\")"
   ]
  },
  {
   "cell_type": "code",
   "execution_count": 36,
   "id": "5218fbc3",
   "metadata": {},
   "outputs": [
    {
     "name": "stdout",
     "output_type": "stream",
     "text": [
      "Enter marks:73\n",
      "Grade C\n"
     ]
    }
   ],
   "source": [
    "marks = int(input(\"Enter marks:\"))\n",
    "\n",
    "if marks >= 90:\n",
    "    print(\"Grade A\")\n",
    "elif marks >= 80:\n",
    "    print(\"Grade B\")\n",
    "elif marks >= 70:\n",
    "    print(\"Grade C\")\n",
    "else:\n",
    "    print(\"Grade D\")"
   ]
  },
  {
   "cell_type": "markdown",
   "id": "50b1dc7a",
   "metadata": {},
   "source": [
    "# Nested if statements \n",
    "We can use if, if-else, elif statements inside other if statements as well. "
   ]
  },
  {
   "cell_type": "code",
   "execution_count": 37,
   "id": "890235de",
   "metadata": {},
   "outputs": [
    {
     "name": "stdout",
     "output_type": "stream",
     "text": [
      "Enter age64\n",
      "Can drive\n"
     ]
    }
   ],
   "source": [
    "age = int(input(\"Enter age\"))\n",
    "if(age>=18):\n",
    "    if(age>=80):\n",
    "     print(\"cannot drive\")\n",
    "    else:\n",
    "     print(\"Can drive\")\n",
    "else:\n",
    "   print(\"cannot drive\")"
   ]
  },
  {
   "cell_type": "markdown",
   "id": "d7da46d1",
   "metadata": {},
   "source": [
    "# PRACTICE QUESTIONS"
   ]
  },
  {
   "cell_type": "markdown",
   "id": "63801305",
   "metadata": {},
   "source": [
    "# WAP to check if a number entered by the user is odd or even."
   ]
  },
  {
   "cell_type": "code",
   "execution_count": 38,
   "id": "718ed5e1",
   "metadata": {},
   "outputs": [
    {
     "name": "stdout",
     "output_type": "stream",
     "text": [
      "Enter a number : 16\n",
      "16 is even\n"
     ]
    }
   ],
   "source": [
    "num = int(input(\"Enter a number : \"))\n",
    "if (num%2==0):\n",
    "    print(num,\"is even\")\n",
    "else:\n",
    "    print(num,\"is odd\")"
   ]
  },
  {
   "cell_type": "markdown",
   "id": "d0aa9538",
   "metadata": {},
   "source": [
    "# WAP to find the greatest of 3 numbers entered by the user."
   ]
  },
  {
   "cell_type": "code",
   "execution_count": 39,
   "id": "d60ecbfd",
   "metadata": {},
   "outputs": [
    {
     "name": "stdout",
     "output_type": "stream",
     "text": [
      "Enter a number1 : 12\n",
      "Enter a number2 : 5\n",
      "Enter a number3 : 42\n",
      "42 is greater\n"
     ]
    }
   ],
   "source": [
    "number1 = int(input(\"Enter a number1 : \"))\n",
    "number2 = int(input(\"Enter a number2 : \"))\n",
    "number3 = int(input(\"Enter a number3 : \"))\n",
    "if (number3 >number2 and number3 > number1):\n",
    "    print(number3, \"is greater\")\n",
    "elif(number2 > number1 and number2 > number3):\n",
    "    print(number2, \"is greater\")\n",
    "else:\n",
    "    print(number1,\"is greater\")"
   ]
  },
  {
   "cell_type": "markdown",
   "id": "f815e208",
   "metadata": {},
   "source": [
    "# WAP to check if a number is a multiple of 7 or not."
   ]
  },
  {
   "cell_type": "code",
   "execution_count": 40,
   "id": "934efbc1",
   "metadata": {},
   "outputs": [
    {
     "name": "stdout",
     "output_type": "stream",
     "text": [
      "Enter a number : 49\n",
      "49 is multiple of 7\n"
     ]
    }
   ],
   "source": [
    "num = int(input(\"Enter a number : \"))\n",
    "if (num%7==0):\n",
    "    print(num,\"is multiple of 7\")\n",
    "else:\n",
    "    print(num,\"is not multiple of 7\")"
   ]
  },
  {
   "cell_type": "markdown",
   "id": "f454fe1b",
   "metadata": {},
   "source": [
    "# EXTRA QUESTIONS"
   ]
  },
  {
   "cell_type": "markdown",
   "id": "4d0072a2",
   "metadata": {},
   "source": [
    "# WAP to check if a person is eligible for voting or not"
   ]
  },
  {
   "cell_type": "code",
   "execution_count": 42,
   "id": "c461a959",
   "metadata": {},
   "outputs": [
    {
     "name": "stdout",
     "output_type": "stream",
     "text": [
      "enter age15\n",
      "not eligible for voting\n"
     ]
    }
   ],
   "source": [
    "age= int(input(\"enter age\"))\n",
    "if(age>=18):\n",
    "  print(\"eligible for voting\")\n",
    "else:\n",
    "  print(\"not eligible for voting\")"
   ]
  },
  {
   "cell_type": "markdown",
   "id": "58a5c06b",
   "metadata": {},
   "source": [
    "# WAP to check whether a character is a vowel or not"
   ]
  },
  {
   "cell_type": "code",
   "execution_count": 47,
   "id": "f418c8c4",
   "metadata": {},
   "outputs": [
    {
     "name": "stdout",
     "output_type": "stream",
     "text": [
      "Enter a character: O\n",
      "It is a vowel\n"
     ]
    }
   ],
   "source": [
    "char = input(\"Enter a character: \")\n",
    "if(char == 'a' or char =='e' or char == 'o' or char == 'i' or char =='u'):\n",
    "    print(\"It is a vowel\")\n",
    "elif(char == 'A' or char =='E' or char == 'O' or char == 'I' or char =='U'):\n",
    "    print(\"It is a vowel\")\n",
    "else:\n",
    "    print(\"It is a consonant\")"
   ]
  },
  {
   "cell_type": "markdown",
   "id": "b6cef0b1",
   "metadata": {},
   "source": [
    "# WAP to check the largest number out of three numbers given by the user."
   ]
  },
  {
   "cell_type": "code",
   "execution_count": 48,
   "id": "6cc6dc93",
   "metadata": {},
   "outputs": [
    {
     "name": "stdout",
     "output_type": "stream",
     "text": [
      "Enter first number: 12\n",
      "Enter second number: 7\n",
      "Enter third number: 35\n",
      "Third number is greatest\n"
     ]
    }
   ],
   "source": [
    "num1 = int(input(\"Enter first number: \"))\n",
    "num2 = int(input(\"Enter second number: \"))\n",
    "num3 = int(input(\"Enter third number: \"))\n",
    "if(num1>num2 and num1>num3):\n",
    "    print(\"First number is greatest\")\n",
    "elif(num2>num1 and num2>num3):\n",
    "    print(\"Second numberrs is greatest\")\n",
    "else:\n",
    "    print(\"Third number is greatest\")\n",
    "    "
   ]
  },
  {
   "cell_type": "markdown",
   "id": "3bad36fc",
   "metadata": {},
   "source": [
    "# WAP to check whether a year is leap year or not"
   ]
  },
  {
   "cell_type": "code",
   "execution_count": 49,
   "id": "e6fa8a2c",
   "metadata": {},
   "outputs": [
    {
     "name": "stdout",
     "output_type": "stream",
     "text": [
      "Enter a year: 2012\n",
      "It is a leap year\n"
     ]
    }
   ],
   "source": [
    "year = int(input(\"Enter a year: \"))\n",
    "if(year % 400 == 0 or year % 4 == 0 and year %100!=0):\n",
    "    print(\"It is a leap year\")\n",
    "else:\n",
    "    print(\"Not a leap year\")"
   ]
  },
  {
   "cell_type": "markdown",
   "id": "bf07ce37",
   "metadata": {},
   "source": [
    "# WAP to check if a number is even or odd"
   ]
  },
  {
   "cell_type": "code",
   "execution_count": 50,
   "id": "18e3e355",
   "metadata": {},
   "outputs": [
    {
     "name": "stdout",
     "output_type": "stream",
     "text": [
      "Enter a number: 35\n",
      "Odd Number\n"
     ]
    }
   ],
   "source": [
    "num = int(input(\"Enter a number: \"))\n",
    "if(num % 2 == 0):\n",
    "    print(\"Even number\")\n",
    "else:\n",
    "    print(\"Odd Number\")"
   ]
  },
  {
   "cell_type": "markdown",
   "id": "fa6eb1f6",
   "metadata": {},
   "source": [
    "# WAP to check if a number is divisible by 7 or not"
   ]
  },
  {
   "cell_type": "code",
   "execution_count": 52,
   "id": "86308d65",
   "metadata": {},
   "outputs": [
    {
     "name": "stdout",
     "output_type": "stream",
     "text": [
      "Enter a number: 49\n",
      "Divisible by 7\n"
     ]
    }
   ],
   "source": [
    "num = int(input(\"Enter a number: \"))\n",
    "if(num % 7 ==0):\n",
    "    print(\"Divisible by 7\")\n",
    "else:\n",
    "    print(\"Not divisible by 7\")"
   ]
  },
  {
   "cell_type": "markdown",
   "id": "556c0375",
   "metadata": {},
   "source": [
    "# WAP to display 'hello' if a number is divisile by 5, otherwise 'bye'"
   ]
  },
  {
   "cell_type": "code",
   "execution_count": 53,
   "id": "974efd15",
   "metadata": {},
   "outputs": [
    {
     "name": "stdout",
     "output_type": "stream",
     "text": [
      "Enter a number: 56\n",
      "Bye\n"
     ]
    }
   ],
   "source": [
    "num = int(input(\"Enter a number: \"))\n",
    "if(num % 5== 0):\n",
    "    print(\"Hello\")\n",
    "else:\n",
    "    print(\"Bye\")"
   ]
  },
  {
   "cell_type": "markdown",
   "id": "7a15be7f",
   "metadata": {},
   "source": [
    "# WAP to display the last digit of a number"
   ]
  },
  {
   "cell_type": "code",
   "execution_count": 54,
   "id": "7a0ff561",
   "metadata": {},
   "outputs": [
    {
     "name": "stdout",
     "output_type": "stream",
     "text": [
      "Enter a number: 65872379817389\n",
      "Last digit of the number is 9\n"
     ]
    }
   ],
   "source": [
    "num = int(input(\"Enter a number: \"))\n",
    "c= num%10\n",
    "print(\"Last digit of the number is\",c)"
   ]
  },
  {
   "cell_type": "markdown",
   "id": "13268796",
   "metadata": {},
   "source": [
    "# WAP accepting the age of four people and check the oldest one."
   ]
  },
  {
   "cell_type": "code",
   "execution_count": 56,
   "id": "fa61dc69",
   "metadata": {},
   "outputs": [
    {
     "name": "stdout",
     "output_type": "stream",
     "text": [
      "Enter first age: 43\n",
      "Enter second age: 64\n",
      "Enter third age: 27\n",
      "Enter fourth age: 78\n",
      "Fourth age is greatest\n"
     ]
    }
   ],
   "source": [
    "age1 = int(input(\"Enter first age: \"))\n",
    "age2 = int(input(\"Enter second age: \"))\n",
    "age3 = int(input(\"Enter third age: \"))\n",
    "age4 = int(input(\"Enter fourth age: \"))\n",
    "if( age1> age2 and age1> age3 and age1>age4):\n",
    "    print(\"First age is greatest\")\n",
    "elif(age2> age1 and age2> age3 and age2> age4):\n",
    "    print(\"Second age is greatest\")\n",
    "elif(age3>age1 and age3> age2 and age3> age4):\n",
    "    print(\"Third age is greatest\")\n",
    "else:\n",
    "    print(\"Fourth age is greatest\")"
   ]
  },
  {
   "cell_type": "code",
   "execution_count": null,
   "id": "d9d4901e",
   "metadata": {},
   "outputs": [],
   "source": []
  }
 ],
 "metadata": {
  "kernelspec": {
   "display_name": "Python 3 (ipykernel)",
   "language": "python",
   "name": "python3"
  },
  "language_info": {
   "codemirror_mode": {
    "name": "ipython",
    "version": 3
   },
   "file_extension": ".py",
   "mimetype": "text/x-python",
   "name": "python",
   "nbconvert_exporter": "python",
   "pygments_lexer": "ipython3",
   "version": "3.11.5"
  }
 },
 "nbformat": 4,
 "nbformat_minor": 5
}
